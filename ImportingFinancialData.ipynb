{
 "cells": [
  {
   "cell_type": "code",
   "execution_count": 1,
   "metadata": {
    "collapsed": false
   },
   "outputs": [
    {
     "name": "stdout",
     "output_type": "stream",
     "text": [
      "3.5.1 |Anaconda 4.0.0 (64-bit)| (default, Feb 16 2016, 09:49:46) [MSC v.1900 64 bit (AMD64)]\n"
     ]
    }
   ],
   "source": [
    "import sys\n",
    "print (sys.version)"
   ]
  },
  {
   "cell_type": "code",
   "execution_count": 2,
   "metadata": {
    "collapsed": false
   },
   "outputs": [
    {
     "name": "stdout",
     "output_type": "stream",
     "text": [
      "8\n"
     ]
    }
   ],
   "source": [
    "import ctypes\n",
    "print(ctypes.sizeof(ctypes.c_voidp))"
   ]
  },
  {
   "cell_type": "code",
   "execution_count": 1,
   "metadata": {
    "collapsed": false,
    "scrolled": true
   },
   "outputs": [],
   "source": [
    "#like with BLPAPI, download the TIA package from GitHub and paste in the directory_\n",
    "#C:\\Users\\cp85vc\\AppData\\Local\\Continuum\\Anaconda3\\Lib\\site-packages\\tia\n",
    "#There was a NameError when calling 'resp', 'basestring' not defined\n",
    "#from C:\\Users\\cp85vc\\AppData\\Local\\Continuum\\Anaconda3\\lib\\site-packages\\tia\\bbg\\v3api.py \n",
    "#so had to change all them to 'str', close-re-open and then it worked :)\n",
    "#examples :  http://nbviewer.jupyter.org/github/bpsmith/tia/blob/master/examples/v3api.ipynb\n",
    "import blpapi\n",
    "import numpy as np\n",
    "import pandas as pd\n",
    "#import matplotlib as plt -->error \"no show module?\"\n",
    "import matplotlib.pyplot as plt\n",
    "%matplotlib inline  \n",
    "import tai  #basic tech analysis module\n",
    "#this is more advanced module  but need to install whole talib._ta_lib  -->import talib\n",
    "import datetime\n",
    "import datetime as dt#  --->NameError: name 'datetime' is not defined\n",
    "from datetime import date\n",
    "import tia.bbg.datamgr as dm\n",
    "from tia.bbg import LocalTerminal"
   ]
  },
  {
   "cell_type": "markdown",
   "metadata": {
    "collapsed": false,
    "scrolled": true
   },
   "source": [
    "# BDH\n",
    "''''waste of space BBG example\n",
    "\n",
    "session = blpapi.Session()\n",
    "if not session.start():\n",
    "    print(\"Failed to start session.\")\n",
    "if not session.openService(\"//blp/refdata\"):\n",
    "    print(\"Failed to open service.\")\n",
    "\n",
    "service = session.getService(\"//blp/refdata\")\n",
    "request = service.createRequest(\"HistoricalDataRequest\")\n",
    "\n",
    "request.append(\"securities\", \"EUR Curncy\")\n",
    "#request.append(\"fields\", \"TRAIL_12M_EPS\")\n",
    "request.append(\"fields\", \"PX_LAST\")\n",
    "\n",
    "request.set(\"startDate\", \"20151230\")\n",
    "request.set(\"endDate\",\"20170101\")\n",
    "\n",
    "session.sendRequest(request)\n",
    "endReached = False\n",
    "\n",
    "while endReached == False:\n",
    "    ev = session.nextEvent()\n",
    "    if ev.eventType() == blpapi.Event.RESPONSE or ev.eventType() == blpapi.Event.PARTIAL_RESPONSE:\n",
    "        for msg in ev:\n",
    "           print(msg)\n",
    "\n",
    "    if ev.eventType() == blpapi.Event.RESPONSE:\n",
    "        endReached = True'''"
   ]
  },
  {
   "cell_type": "code",
   "execution_count": 3,
   "metadata": {
    "collapsed": false
   },
   "outputs": [],
   "source": [
    "class DownloadData(object):\n",
    "    #can pass single 'PX_LAST', or list ['PX_LAST', 'PX_HIGH']\n",
    "    def __init__(self, pair, fields, startDate, endDate, period, source):\n",
    "        \n",
    "        self.pair = pair #'EURUSD'\n",
    "        self.fields = fields  #dt.datetime(2000, 12, 1)\n",
    "        self.startDate = startDate #dt.datetime.today() \n",
    "        self.endDate = endDate #datetime.date(2018, 1,14)\n",
    "        print(endDate)\n",
    "        self.period = period #'DAILY', 'MONTHLY', 'YEARLY'\n",
    "        self.source = source #blp or quandl\n",
    "        \n",
    "    def get_data_blp_historical(self):\n",
    "        '''imports historical data from bbg api, converts to dataframe '''\n",
    "        formattedPair = self.pair +str(' Curncy')\n",
    "        resp = LocalTerminal.get_historical(formattedPair, self.fields, self.startDate, self.endDate,  self.period)\n",
    "        df = resp.as_frame()\n",
    "        #use below to start at second row , to get rid of the extra column index ['XYZ Curncy'] title on top\n",
    "        #else df MultiIndex(levels=[['EURUSD Curncy'], ['PX_OPEN', 'PX_LAST', 'PX_LOW', 'PX_HIGH']]\n",
    "        df.columns = df.columns.get_level_values(1) \n",
    "        \n",
    "        return df\n",
    "    \n",
    "    def get_data_blp_intraday(self, daylag, minutes):\n",
    "        '''imports intraday data from bbg api, converts to dataframe '''\n",
    "        formattedPair = self.pair +str(' Curncy')\n",
    "\n",
    "        event = 'TRADE'\n",
    "        #starting point, if BDay(-10), starts 10days ago for instance\n",
    "        #dt = pd.datetools.BDay(-dayLag).apply(pd.datetime.now())\n",
    "        delta = pd.datetools.BDay(-daylag).apply(self.endDate)\n",
    "     \n",
    "        start = pd.datetime.combine(delta, datetime.time(0, 0))   #time(hour, minute)\n",
    "        \n",
    "        #endDay = datetime.date(2017,12,3)\n",
    "        #end = pd.datetime.combine(endDay, datetime.time(23, 30))\n",
    "        end = self.endDate\n",
    "        print(end)\n",
    "\n",
    "        intraDayDf = LocalTerminal.get_intraday_bar(formattedPair, event, start, end, interval= minutes).as_frame()\n",
    "\n",
    "        #f.set_index('time')  wrong\n",
    "        intraDayDf = intraDayDf.set_index('time')\n",
    "        return intraDayDf\n",
    "    \n",
    "    def blp_data_get_returns(self):\n",
    "        \n",
    "        df = self.get_data_blp_historical()\n",
    "        df['return']= (df['PX_LAST']/(df['PX_LAST'].shift(1)) -1.0)*100\n",
    "        return df\n",
    "    \n",
    "    def blp_data_MAs(self):\n",
    "        \n",
    "        #first instantiate the object, then can play with it\n",
    "        df = self.get_data_blp_historical()\n",
    "  \n",
    "        #df['ATR']= [(df['PX_HIGH']-df['PX_LOW']) in df.columns if 'PX_HIGH' in \n",
    "            \n",
    "        #df['prevCloseToLow'] = (df['PX_LAST'].shift(1) -['PX_LOW']) #if prices gap higher and today's low > yest close_\n",
    "        #df['HighToPrevClose'] = (max(df['PX_HIGH']-df['PX_LAST'].shift(1),0.0))\n",
    "    \n",
    "        df['ma21'] = df['PX_LAST'].rolling(21).mean()\n",
    "        df['ma55'] = df['PX_LAST'].rolling(55).mean()\n",
    "        df['ma100'] = df['PX_LAST'].rolling(100).mean()\n",
    "        df['ma200'] = df['PX_LAST'].rolling(200).mean()\n",
    "        return df\n",
    "        \n",
    "    '''def futureMoves(self, days):\n",
    "        #get data\n",
    "        df = self.getDataBBG()        \n",
    "        df['xMin'] = df['PX_LAST'].rolling(days).min()\n",
    "        return df\n",
    "    \n",
    "        \n",
    "    def calculateExtremes(self, days):\n",
    "        #get data\n",
    "        df = self.get_data()\n",
    "        \n",
    "        #calculate lowest price in past n-days\n",
    "        df['running_low'] = df['PX_LOW'].shift(1).rolling(days).min()\n",
    "        #calculate latest price distance from low \n",
    "        df['distance_from_low'] = (df['PX_LAST'] - df['running_low']) / df['PX_LAST']  #see if can use  df[''].diff()\n",
    "        #create a signal if last price is lower than running_low\n",
    "        df['breaking_lower'] = np.where(df['PX_LAST'] < df['running_low'], 1.0, 0.0)\n",
    "        \n",
    "        #calculate max price in past n-days\n",
    "        df['running_high'] =df['PX_HIGH'].shift(1).rolling(days).max()\n",
    "        df['distance_from_high'] = (df['running_high'] - df['PX_LAST'] )/df['PX_LAST']\n",
    "        df['breaking_higher'] = np.where(df['PX_LAST'] > df['running_high'], 1.0, 0.0)\n",
    "        \n",
    "        return df\n",
    "\n",
    "        \n",
    "    def get_data_quandL(self):\n",
    "        return 0  '''"
   ]
  },
  {
   "cell_type": "markdown",
   "metadata": {},
   "source": [
    "##Download Houlry Data from 200 days ago##"
   ]
  },
  {
   "cell_type": "code",
   "execution_count": 51,
   "metadata": {
    "collapsed": false
   },
   "outputs": [
    {
     "name": "stdout",
     "output_type": "stream",
     "text": [
      "2018-03-08 17:47:58.807478\n",
      "2018-03-08 17:47:58.807478\n"
     ]
    },
    {
     "data": {
      "text/html": [
       "<div>\n",
       "<table border=\"1\" class=\"dataframe\">\n",
       "  <thead>\n",
       "    <tr style=\"text-align: right;\">\n",
       "      <th></th>\n",
       "      <th>close</th>\n",
       "      <th>high</th>\n",
       "      <th>low</th>\n",
       "      <th>numEvents</th>\n",
       "      <th>open</th>\n",
       "      <th>value</th>\n",
       "      <th>volume</th>\n",
       "    </tr>\n",
       "    <tr>\n",
       "      <th>time</th>\n",
       "      <th></th>\n",
       "      <th></th>\n",
       "      <th></th>\n",
       "      <th></th>\n",
       "      <th></th>\n",
       "      <th></th>\n",
       "      <th></th>\n",
       "    </tr>\n",
       "  </thead>\n",
       "  <tbody>\n",
       "    <tr>\n",
       "      <th>2017-08-23 21:00:00</th>\n",
       "      <td>1.1809</td>\n",
       "      <td>1.1814</td>\n",
       "      <td>1.1806</td>\n",
       "      <td>17123</td>\n",
       "      <td>1.1807</td>\n",
       "      <td>0.0</td>\n",
       "      <td>0</td>\n",
       "    </tr>\n",
       "    <tr>\n",
       "      <th>2017-08-23 22:00:00</th>\n",
       "      <td>1.1811</td>\n",
       "      <td>1.1821</td>\n",
       "      <td>1.1808</td>\n",
       "      <td>11905</td>\n",
       "      <td>1.1809</td>\n",
       "      <td>0.0</td>\n",
       "      <td>0</td>\n",
       "    </tr>\n",
       "    <tr>\n",
       "      <th>2017-08-23 23:00:00</th>\n",
       "      <td>1.1816</td>\n",
       "      <td>1.1820</td>\n",
       "      <td>1.1811</td>\n",
       "      <td>13519</td>\n",
       "      <td>1.1811</td>\n",
       "      <td>0.0</td>\n",
       "      <td>0</td>\n",
       "    </tr>\n",
       "    <tr>\n",
       "      <th>2017-08-24 00:00:00</th>\n",
       "      <td>1.1809</td>\n",
       "      <td>1.1820</td>\n",
       "      <td>1.1808</td>\n",
       "      <td>19446</td>\n",
       "      <td>1.1816</td>\n",
       "      <td>0.0</td>\n",
       "      <td>0</td>\n",
       "    </tr>\n",
       "    <tr>\n",
       "      <th>2017-08-24 01:00:00</th>\n",
       "      <td>1.1801</td>\n",
       "      <td>1.1811</td>\n",
       "      <td>1.1801</td>\n",
       "      <td>21240</td>\n",
       "      <td>1.1809</td>\n",
       "      <td>0.0</td>\n",
       "      <td>0</td>\n",
       "    </tr>\n",
       "  </tbody>\n",
       "</table>\n",
       "</div>"
      ],
      "text/plain": [
       "                      close    high     low  numEvents    open  value  volume\n",
       "time                                                                         \n",
       "2017-08-23 21:00:00  1.1809  1.1814  1.1806      17123  1.1807    0.0       0\n",
       "2017-08-23 22:00:00  1.1811  1.1821  1.1808      11905  1.1809    0.0       0\n",
       "2017-08-23 23:00:00  1.1816  1.1820  1.1811      13519  1.1811    0.0       0\n",
       "2017-08-24 00:00:00  1.1809  1.1820  1.1808      19446  1.1816    0.0       0\n",
       "2017-08-24 01:00:00  1.1801  1.1811  1.1801      21240  1.1809    0.0       0"
      ]
     },
     "execution_count": 51,
     "metadata": {},
     "output_type": "execute_result"
    }
   ],
   "source": [
    "hourly = DownloadData(pair = 'EURUSD', \n",
    "                      fields = 'PX_LAST',# 'PX_LOW', 'PX_HIGH'], #, 'EVENTS'], \n",
    "                      startDate = start, \n",
    "                      endDate = dt.datetime.today(), #datetime.date(2017,1,14), \n",
    "                      period = 'DAILY', \n",
    "                      source = 'blp')\n",
    "\n",
    "hourly = hourly.get_data_blp_intraday(200, 60)\n",
    "hourly.to_csv('yuguang.csv')\n",
    "hourly.head()"
   ]
  },
  {
   "cell_type": "markdown",
   "metadata": {},
   "source": [
    "##Download yearly data for a few securities, test a simple hypothesis"
   ]
  },
  {
   "cell_type": "code",
   "execution_count": 4,
   "metadata": {
    "collapsed": false
   },
   "outputs": [],
   "source": [
    "#instantiate objects\n",
    "start = dt.datetime(1998, 12, 1)  #year, month, day\n",
    "\n",
    "end = dt.datetime.today()\n",
    "#stocks = resp2 = LocalTerminal.get_historical(['GM US EQUITY','NLY US EQUITY'], ['PX_OPEN', 'PX_LAST', 'PX_HIGH'], \n",
    "            #                             start='1/1/1992', end='3/1/2017', period='YEARLY')\n",
    "#eur = DownloadData(pair = 'EURUSD',fields = ['PX_OPEN', 'PX_LAST','PX_LOW', 'PX_HIGH'],startDate = start,\\\n",
    " #                  endDate = end, period =  'YEARLY')\n",
    "eur = DownloadData(pair = 'EURUSD',fields = ['PX_LAST'],startDate = start,\\\n",
    "                   endDate = end, period =  'YEARLY', source = 'blp')\n",
    "\n",
    "ussw5 = DownloadData(pair = 'USSW5',fields = ['PX_LAST'],startDate = start,\\\n",
    "                   endDate = end, period =  'YEARLY', source = 'blp')\n",
    "\n",
    "eusa5 = DownloadData(pair = 'EUSA5',fields = ['PX_LAST'],startDate = start,\\\n",
    "                   endDate = end, period =  'YEARLY', source = 'blp')\n",
    "                     \n",
    "spx = DownloadData(pair = 'SPX',fields = ['PX_LAST'],startDate = start,\\\n",
    "                   endDate = end, period =  'YEARLY', source = 'blp')\n",
    "                   "
   ]
  },
  {
   "cell_type": "code",
   "execution_count": 4,
   "metadata": {
    "collapsed": false
   },
   "outputs": [],
   "source": [
    "#download data\n",
    "eur = eur.get_data_blp_historical()\n",
    "ussw5 = ussw5.get_data_blp_historical()\n",
    "eusa5 = eusa5.get_data_blp_historical()\n",
    "spx = spx.get_data_blp_historical()"
   ]
  },
  {
   "cell_type": "code",
   "execution_count": 7,
   "metadata": {
    "collapsed": false
   },
   "outputs": [
    {
     "data": {
      "text/html": [
       "<div>\n",
       "<table border=\"1\" class=\"dataframe\">\n",
       "  <thead>\n",
       "    <tr style=\"text-align: right;\">\n",
       "      <th></th>\n",
       "      <th>eur</th>\n",
       "      <th>us5</th>\n",
       "      <th>eu5</th>\n",
       "      <th>spx</th>\n",
       "      <th>eur_ret</th>\n",
       "      <th>spx_ret</th>\n",
       "      <th>diff</th>\n",
       "      <th>diff_ret</th>\n",
       "      <th>hypot</th>\n",
       "    </tr>\n",
       "    <tr>\n",
       "      <th>date</th>\n",
       "      <th></th>\n",
       "      <th></th>\n",
       "      <th></th>\n",
       "      <th></th>\n",
       "      <th></th>\n",
       "      <th></th>\n",
       "      <th></th>\n",
       "      <th></th>\n",
       "      <th></th>\n",
       "    </tr>\n",
       "  </thead>\n",
       "  <tbody>\n",
       "    <tr>\n",
       "      <th>2008-12-31</th>\n",
       "      <td>1.3973</td>\n",
       "      <td>2.1330</td>\n",
       "      <td>3.250</td>\n",
       "      <td>903.25</td>\n",
       "      <td>-4.228924</td>\n",
       "      <td>-0.384858</td>\n",
       "      <td>1.1170</td>\n",
       "      <td>0.7400</td>\n",
       "      <td>False</td>\n",
       "    </tr>\n",
       "    <tr>\n",
       "      <th>2009-12-31</th>\n",
       "      <td>1.4326</td>\n",
       "      <td>2.9810</td>\n",
       "      <td>2.810</td>\n",
       "      <td>1115.10</td>\n",
       "      <td>2.526301</td>\n",
       "      <td>0.234542</td>\n",
       "      <td>-0.1710</td>\n",
       "      <td>-1.2880</td>\n",
       "      <td>False</td>\n",
       "    </tr>\n",
       "    <tr>\n",
       "      <th>2010-12-31</th>\n",
       "      <td>1.3387</td>\n",
       "      <td>2.1740</td>\n",
       "      <td>2.491</td>\n",
       "      <td>1257.64</td>\n",
       "      <td>-6.554516</td>\n",
       "      <td>0.127827</td>\n",
       "      <td>0.3170</td>\n",
       "      <td>0.4880</td>\n",
       "      <td>False</td>\n",
       "    </tr>\n",
       "    <tr>\n",
       "      <th>2011-12-30</th>\n",
       "      <td>1.2959</td>\n",
       "      <td>1.2245</td>\n",
       "      <td>1.724</td>\n",
       "      <td>1257.60</td>\n",
       "      <td>-3.197132</td>\n",
       "      <td>-0.000032</td>\n",
       "      <td>0.4995</td>\n",
       "      <td>0.1825</td>\n",
       "      <td>False</td>\n",
       "    </tr>\n",
       "    <tr>\n",
       "      <th>2012-12-31</th>\n",
       "      <td>1.3192</td>\n",
       "      <td>0.8645</td>\n",
       "      <td>0.766</td>\n",
       "      <td>1426.19</td>\n",
       "      <td>1.797978</td>\n",
       "      <td>0.134057</td>\n",
       "      <td>-0.0985</td>\n",
       "      <td>-0.5980</td>\n",
       "      <td>False</td>\n",
       "    </tr>\n",
       "    <tr>\n",
       "      <th>2013-12-31</th>\n",
       "      <td>1.3743</td>\n",
       "      <td>1.7860</td>\n",
       "      <td>1.261</td>\n",
       "      <td>1848.36</td>\n",
       "      <td>4.176774</td>\n",
       "      <td>0.296012</td>\n",
       "      <td>-0.5250</td>\n",
       "      <td>-0.4265</td>\n",
       "      <td>False</td>\n",
       "    </tr>\n",
       "    <tr>\n",
       "      <th>2014-12-31</th>\n",
       "      <td>1.2098</td>\n",
       "      <td>1.7715</td>\n",
       "      <td>0.360</td>\n",
       "      <td>2058.90</td>\n",
       "      <td>-11.969730</td>\n",
       "      <td>0.113906</td>\n",
       "      <td>-1.4115</td>\n",
       "      <td>-0.8865</td>\n",
       "      <td>True</td>\n",
       "    </tr>\n",
       "    <tr>\n",
       "      <th>2015-12-31</th>\n",
       "      <td>1.0856</td>\n",
       "      <td>1.7369</td>\n",
       "      <td>0.331</td>\n",
       "      <td>2043.94</td>\n",
       "      <td>-10.266160</td>\n",
       "      <td>-0.007266</td>\n",
       "      <td>-1.4059</td>\n",
       "      <td>0.0056</td>\n",
       "      <td>False</td>\n",
       "    </tr>\n",
       "    <tr>\n",
       "      <th>2016-12-30</th>\n",
       "      <td>1.0520</td>\n",
       "      <td>1.9752</td>\n",
       "      <td>0.075</td>\n",
       "      <td>2238.83</td>\n",
       "      <td>-3.095063</td>\n",
       "      <td>0.095350</td>\n",
       "      <td>-1.9002</td>\n",
       "      <td>-0.4943</td>\n",
       "      <td>True</td>\n",
       "    </tr>\n",
       "    <tr>\n",
       "      <th>2017-12-29</th>\n",
       "      <td>1.2005</td>\n",
       "      <td>2.2437</td>\n",
       "      <td>0.313</td>\n",
       "      <td>2673.61</td>\n",
       "      <td>14.115970</td>\n",
       "      <td>0.194200</td>\n",
       "      <td>-1.9307</td>\n",
       "      <td>-0.0305</td>\n",
       "      <td>False</td>\n",
       "    </tr>\n",
       "  </tbody>\n",
       "</table>\n",
       "</div>"
      ],
      "text/plain": [
       "               eur     us5    eu5      spx    eur_ret   spx_ret    diff  \\\n",
       "date                                                                      \n",
       "2008-12-31  1.3973  2.1330  3.250   903.25  -4.228924 -0.384858  1.1170   \n",
       "2009-12-31  1.4326  2.9810  2.810  1115.10   2.526301  0.234542 -0.1710   \n",
       "2010-12-31  1.3387  2.1740  2.491  1257.64  -6.554516  0.127827  0.3170   \n",
       "2011-12-30  1.2959  1.2245  1.724  1257.60  -3.197132 -0.000032  0.4995   \n",
       "2012-12-31  1.3192  0.8645  0.766  1426.19   1.797978  0.134057 -0.0985   \n",
       "2013-12-31  1.3743  1.7860  1.261  1848.36   4.176774  0.296012 -0.5250   \n",
       "2014-12-31  1.2098  1.7715  0.360  2058.90 -11.969730  0.113906 -1.4115   \n",
       "2015-12-31  1.0856  1.7369  0.331  2043.94 -10.266160 -0.007266 -1.4059   \n",
       "2016-12-30  1.0520  1.9752  0.075  2238.83  -3.095063  0.095350 -1.9002   \n",
       "2017-12-29  1.2005  2.2437  0.313  2673.61  14.115970  0.194200 -1.9307   \n",
       "\n",
       "            diff_ret  hypot  \n",
       "date                         \n",
       "2008-12-31    0.7400  False  \n",
       "2009-12-31   -1.2880  False  \n",
       "2010-12-31    0.4880  False  \n",
       "2011-12-30    0.1825  False  \n",
       "2012-12-31   -0.5980  False  \n",
       "2013-12-31   -0.4265  False  \n",
       "2014-12-31   -0.8865   True  \n",
       "2015-12-31    0.0056  False  \n",
       "2016-12-30   -0.4943   True  \n",
       "2017-12-29   -0.0305  False  "
      ]
     },
     "execution_count": 7,
     "metadata": {},
     "output_type": "execute_result"
    }
   ],
   "source": [
    "#merge dfs\n",
    "merged = (pd.concat([eur, ussw5, eusa5, spx], join = 'inner' , axis = 1))\n",
    "merged.columns = ['eur', 'us5', 'eu5', 'spx']\n",
    "merged['eur_ret'] = (merged['eur']/merged['eur'].shift(1) - 1)*100\n",
    "merged['spx_ret'] = merged['spx']/merged['spx'].shift(1) - 1\n",
    "merged['diff']  = -merged['us5']  + merged['eu5']\n",
    "merged['diff_ret'] = merged['diff']- merged['diff'].shift(1)\n",
    "merged['hypot'] = (merged['diff_ret'] < 0) & (merged['eur_ret'] < 0)\n",
    "merged.tail(10)"
   ]
  },
  {
   "cell_type": "raw",
   "metadata": {},
   "source": [
    "what happens to prices the period after a large move?"
   ]
  },
  {
   "cell_type": "code",
   "execution_count": 105,
   "metadata": {
    "collapsed": false
   },
   "outputs": [
    {
     "name": "stdout",
     "output_type": "stream",
     "text": [
      "DatetimeIndex(['1999-07-30', '2000-05-31', '2000-11-30', '2000-12-29',\n",
      "               '2001-07-31', '2001-08-31', '2002-04-30', '2002-05-31',\n",
      "               '2002-06-28', '2002-12-31', '2003-01-31', '2003-04-30',\n",
      "               '2003-05-30', '2003-09-30', '2003-11-28', '2003-12-31',\n",
      "               '2004-10-29', '2004-11-30', '2006-01-31', '2006-04-28',\n",
      "               '2006-11-30', '2007-04-30', '2007-09-28', '2008-03-31',\n",
      "               '2008-12-31', '2009-03-31', '2009-05-29', '2010-07-30',\n",
      "               '2010-09-30', '2010-10-29', '2010-12-31', '2011-01-31',\n",
      "               '2011-03-31', '2011-04-29', '2011-10-31', '2012-06-29',\n",
      "               '2012-08-31', '2012-09-28', '2013-01-31', '2013-04-30',\n",
      "               '2013-07-31', '2013-09-30', '2014-02-28', '2015-04-30',\n",
      "               '2015-12-31', '2016-03-31', '2017-01-31', '2017-04-28',\n",
      "               '2017-05-31', '2017-07-31', '2017-11-30', '2018-01-31'],\n",
      "              dtype='datetime64[ns]', name='date', freq=None)\n",
      "52\n"
     ]
    },
    {
     "data": {
      "text/html": [
       "<div>\n",
       "<table border=\"1\" class=\"dataframe\">\n",
       "  <thead>\n",
       "    <tr style=\"text-align: right;\">\n",
       "      <th></th>\n",
       "      <th>PX_LAST</th>\n",
       "      <th>return</th>\n",
       "    </tr>\n",
       "    <tr>\n",
       "      <th>date</th>\n",
       "      <th></th>\n",
       "      <th></th>\n",
       "    </tr>\n",
       "  </thead>\n",
       "  <tbody>\n",
       "    <tr>\n",
       "      <th>2017-03-31</th>\n",
       "      <td>1.0653</td>\n",
       "      <td>0.728064</td>\n",
       "    </tr>\n",
       "    <tr>\n",
       "      <th>2017-04-28</th>\n",
       "      <td>1.0897</td>\n",
       "      <td>2.290435</td>\n",
       "    </tr>\n",
       "    <tr>\n",
       "      <th>2017-05-31</th>\n",
       "      <td>1.1244</td>\n",
       "      <td>3.184363</td>\n",
       "    </tr>\n",
       "    <tr>\n",
       "      <th>2017-06-30</th>\n",
       "      <td>1.1426</td>\n",
       "      <td>1.618641</td>\n",
       "    </tr>\n",
       "    <tr>\n",
       "      <th>2017-07-31</th>\n",
       "      <td>1.1842</td>\n",
       "      <td>3.640819</td>\n",
       "    </tr>\n",
       "    <tr>\n",
       "      <th>2017-10-31</th>\n",
       "      <td>1.1646</td>\n",
       "      <td>-1.422042</td>\n",
       "    </tr>\n",
       "    <tr>\n",
       "      <th>2017-11-30</th>\n",
       "      <td>1.1904</td>\n",
       "      <td>2.215353</td>\n",
       "    </tr>\n",
       "    <tr>\n",
       "      <th>2017-12-29</th>\n",
       "      <td>1.2005</td>\n",
       "      <td>0.848454</td>\n",
       "    </tr>\n",
       "    <tr>\n",
       "      <th>2018-01-31</th>\n",
       "      <td>1.2414</td>\n",
       "      <td>3.406914</td>\n",
       "    </tr>\n",
       "    <tr>\n",
       "      <th>2018-02-28</th>\n",
       "      <td>1.2194</td>\n",
       "      <td>-1.772193</td>\n",
       "    </tr>\n",
       "  </tbody>\n",
       "</table>\n",
       "</div>"
      ],
      "text/plain": [
       "            PX_LAST    return\n",
       "date                         \n",
       "2017-03-31   1.0653  0.728064\n",
       "2017-04-28   1.0897  2.290435\n",
       "2017-05-31   1.1244  3.184363\n",
       "2017-06-30   1.1426  1.618641\n",
       "2017-07-31   1.1842  3.640819\n",
       "2017-10-31   1.1646 -1.422042\n",
       "2017-11-30   1.1904  2.215353\n",
       "2017-12-29   1.2005  0.848454\n",
       "2018-01-31   1.2414  3.406914\n",
       "2018-02-28   1.2194 -1.772193"
      ]
     },
     "execution_count": 105,
     "metadata": {},
     "output_type": "execute_result"
    }
   ],
   "source": [
    "eur2 = DownloadData(pair = 'EURUSD',fields = ['PX_LAST'],startDate = start,\\\n",
    "                   endDate = end, period =  'MONTHLY', source = 'blp')\n",
    "\n",
    "eur2 = eur2.blp_data_get_returns()\n",
    "threshhold = 2.2\n",
    "idxmask = eur2.index[eur2['return']>threshhold]\n",
    "print(idxmask)\n",
    "print(len(idxmask))\n",
    "days_around_date = 1\n",
    "\n",
    "temp_index = [eur2.loc[timestamp - pd.Timedelta(days_around_date, unit= 'M') :\n",
    "                     timestamp + pd.Timedelta(days_around_date, unit ='M')].index for timestamp in idxmask]\n",
    "idx = np.unique(np.concatenate(temp_index))\n",
    "df1 = eur2.loc[idx]\n",
    "\n",
    "#df1['return'] = ((df1['PX_LAST']/df1['PX_LAST'].shift(1))-1.0)*100.0\n",
    "df1.tail(10)"
   ]
  },
  {
   "cell_type": "code",
   "execution_count": 106,
   "metadata": {
    "collapsed": false
   },
   "outputs": [
    {
     "data": {
      "image/png": "[encoded data removed]",
      "text/plain": [
       "<matplotlib.figure.Figure at 0x9f5a8d0>"
      ]
     },
     "metadata": {},
     "output_type": "display_data"
    }
   ],
   "source": [
    "df1['return'].plot(kind = 'bar')\n",
    "plt.show()\n",
    "'''dfNew['return'].dropna().plot(kind = 'hist', bins = 50, range = (-5, 5))\n",
    "plt.xlabel('returns')\n",
    "plt.show()'''"
   ]
  },
  {
   "cell_type": "code",
   "execution_count": 109,
   "metadata": {
    "collapsed": false
   },
   "outputs": [
    {
     "data": {
      "text/plain": [
       "\"#with increments of 0.1, check how many days returns are greater than 1% to 2%\\ncheck_range = np.arange(1.0, 2.1, 0.1)\\nfor i in check_range:\\n    counter = len(dfNew.index[dfNew['return']>i])\\n    print('days greater than '+str(i)+' are ' + str(counter))\""
      ]
     },
     "execution_count": 109,
     "metadata": {},
     "output_type": "execute_result"
    }
   ],
   "source": [
    "'''#with increments of 0.1, check how many days returns are greater than 1% to 2%\n",
    "check_range = np.arange(1.0, 2.1, 0.1)\n",
    "for i in check_range:\n",
    "    counter = len(dfNew.index[dfNew['return']>i])\n",
    "    print('days greater than '+str(i)+' are ' + str(counter))'''"
   ]
  },
  {
   "cell_type": "code",
   "execution_count": 110,
   "metadata": {
    "collapsed": false
   },
   "outputs": [
    {
     "data": {
      "text/plain": [
       "'#doesnt work\\nimport numpy as np\\nfrom datetime import datetime, timedelta\\nidx = dfNew.loc[dfNew[\\'return\\']> 2].index\\nprint(idx)\\ndf[\"new\"] = 0\\nfor date in idx:\\n    current_date = date.to_pydatetime()\\n    start = current_date - timedelta(days = 5)\\n    end = current_date + timedelta(days = 5)\\n    df.loc[str(start).split(\" \")[0]:str(current_date).split(\" \")[0]][\"new\"] = 5\\n    df.loc[str(current_date).split(\" \")[0]:str(current_date).split(\" \")[0]][\"new\"] = 5\\nprint(df)'"
      ]
     },
     "execution_count": 110,
     "metadata": {},
     "output_type": "execute_result"
    }
   ],
   "source": [
    "'''#doesnt work\n",
    "import numpy as np\n",
    "from datetime import datetime, timedelta\n",
    "idx = dfNew.loc[dfNew['return']> 2].index\n",
    "print(idx)\n",
    "df[\"new\"] = 0\n",
    "for date in idx:\n",
    "    current_date = date.to_pydatetime()\n",
    "    start = current_date - timedelta(days = 5)\n",
    "    end = current_date + timedelta(days = 5)\n",
    "    df.loc[str(start).split(\" \")[0]:str(current_date).split(\" \")[0]][\"new\"] = 5\n",
    "    df.loc[str(current_date).split(\" \")[0]:str(current_date).split(\" \")[0]][\"new\"] = 5\n",
    "print(df)'''\n"
   ]
  },
  {
   "cell_type": "markdown",
   "metadata": {
    "collapsed": false
   },
   "source": [
    "#nuclearTests dates\n",
    "#rows= [10/9/2006, 5/9/2009, 2/12/2013, 1/6/2016, 9/9/2016 ]#month/day/year\n",
    "#rows= ['10/9/2006', '5/25/2009', '2/12/2013', '1/6/2016', '9/9/2016' ]#month/day/year\n",
    "#year month day on search\n",
    "import math\n",
    "import matplotlib.pyplot as plt #before plotting\n",
    "import numpy as np\n",
    "import pandas as pd #wes mckinney creation from R dataframes..2000 pages!\n",
    "from pylab import *\n",
    "columns = ['Date', 'PX_OPEN', 'PX_LAST', 'PX_LOW', 'PX_HIGH','return','ATR','prevCloseToLow','HighToPrevClose',\n",
    "             'ma21', 'ma55','ma100','ma200']\n",
    "\n",
    "filepath = 'C:/Users/cp85vc/Documents/PythonScripts/usdkrwSpot.csv'\n",
    "df = pd.read_csv(filepath, \n",
    "                index_col = 0,  #gets rid of the first column=just rowNumbers,  so index is date\n",
    "                header = None, #gets rid of first row from spreadsheet\n",
    "                skiprows = 2,  names = columns)\n",
    "\n",
    "df.head()\n",
    "df['return']= (df['PX_LAST']/(df['PX_LAST'].shift(1)) -1.0)*100\n",
    "df['ATR']= (df['PX_HIGH']-df['PX_LOW'])\n",
    "#df['prevCloseToLow'] = (df['PX_LAST'].shift(1) -['PX_LOW']) #if prices gap higher and today's low > yest close_\n",
    "#df['HighToPrevClose'] = (max(df['PX_HIGH']-df['PX_LAST'].shift(1),0.0))\n",
    "df['ma21'] = df['PX_LAST'].rolling(21).mean()\n",
    "df['ma55'] = df['PX_LAST'].rolling(55).mean()\n",
    "df['ma100'] = df['PX_LAST'].rolling(100).mean()\n",
    "df.tail()\n",
    "cols = ['No%s' %i for i in range(0,16)]\n",
    "df.columns = cols\n",
    "#nuclearTests dates\n",
    "#rows= [10/9/2006, 5/9/2009, 2/12/2013, 1/6/2016, 9/9/2016 ]#month/day/year\n",
    "rowsMinus1= ['10/6/2006', '5/22/2009', '2/12/2013', '1/5/2016', '9/7/2016' ]#month/day/year\n",
    "rows= ['10/9/2006', '5/25/2009', '2/12/2013', '1/6/2016', '9/9/2016' ]#month/day/year\n",
    "rowsPlus1= ['10/10/2006', '5/26/2009', '2/13/2013', '1/7/2016', '9/8/2016' ]#month/day/year\n",
    "columnsVol = ['Date', 'VolLevel']\n",
    "df_vol = pd.read_csv('C:/Users/cp85vc/Documents/PythonScripts/usdkrwv6m.csv', \n",
    "                index_col = 0,  #gets rid of the first column=just rowNumbers,  so index is date\n",
    "                header = None, #gets rid of first row from spreadsheet\n",
    "                skiprows = 2, names = columnsVol)\n",
    "df_vol.tail()\n",
    "df_vol['volChanges']= df_vol['VolLevel']-df_vol['VolLevel'].shift(1)\n",
    "df_vol.tail()"
   ]
  },
  {
   "cell_type": "code",
   "execution_count": 115,
   "metadata": {
    "collapsed": false
   },
   "outputs": [],
   "source": [
    "start = dt.datetime(2003, 12, 1) \n",
    "df_krw = DownloadData(pair = 'USDKRW',fields = ['PX_OPEN', 'PX_LAST', 'PX_LOW', 'PX_HIGH'],startDate = start,\\\n",
    "                   endDate = end, period =  'DAILY', source = 'blp')\n",
    "df_krw = df_krw.blp_data_get_returns()"
   ]
  },
  {
   "cell_type": "code",
   "execution_count": 116,
   "metadata": {
    "collapsed": false
   },
   "outputs": [
    {
     "name": "stdout",
     "output_type": "stream",
     "text": [
      "            PX_OPEN  PX_LAST  PX_LOW  PX_HIGH    return\n",
      "date                                                   \n",
      "2006-10-04   947.90   949.20  947.50   949.20  0.131863\n",
      "2006-10-05   949.20   949.50  949.20   949.50  0.031606\n",
      "2006-10-06   949.20   949.15  949.15   949.20 -0.036862\n",
      "2006-10-09   949.20   963.85  949.20   966.70  1.548754\n",
      "2006-10-10   963.85   959.65  957.00   963.85 -0.435752\n",
      "2006-10-11   959.50   958.25  958.05   962.80 -0.145887\n",
      "2006-10-12   958.20   957.90  957.25   962.20 -0.036525\n"
     ]
    }
   ],
   "source": [
    "print(df_krw.loc['2006-10-4':'2006-10-12'])"
   ]
  },
  {
   "cell_type": "code",
   "execution_count": 117,
   "metadata": {
    "collapsed": true
   },
   "outputs": [],
   "source": [
    "def retrieveNuclearDays():\n",
    "    rows= ['10/9/2006', '5/25/2009', '2/12/2013', '1/6/2016', '9/9/2016' ]\n",
    "    for i in rows:\n",
    "        print(df_krw.loc[i])"
   ]
  },
  {
   "cell_type": "code",
   "execution_count": 118,
   "metadata": {
    "collapsed": false
   },
   "outputs": [
    {
     "name": "stdout",
     "output_type": "stream",
     "text": [
      "PX_OPEN    949.200000\n",
      "PX_LAST    963.850000\n",
      "PX_LOW     949.200000\n",
      "PX_HIGH    966.700000\n",
      "return       1.548754\n",
      "Name: 2006-10-09 00:00:00, dtype: float64\n",
      "PX_OPEN    1245.00000\n",
      "PX_LAST    1248.00000\n",
      "PX_LOW     1243.55000\n",
      "PX_HIGH    1269.25000\n",
      "return        0.37399\n",
      "Name: 2009-05-25 00:00:00, dtype: float64\n",
      "PX_OPEN    1094.190000\n",
      "PX_LAST    1090.880000\n",
      "PX_LOW     1085.960000\n",
      "PX_HIGH    1098.100000\n",
      "return       -0.412635\n",
      "Name: 2013-02-12 00:00:00, dtype: float64\n",
      "PX_OPEN    1190.770000\n",
      "PX_LAST    1200.040000\n",
      "PX_LOW     1187.200000\n",
      "PX_HIGH    1203.680000\n",
      "return        0.842003\n",
      "Name: 2016-01-06 00:00:00, dtype: float64\n",
      "PX_OPEN    1098.630000\n",
      "PX_LAST    1109.060000\n",
      "PX_LOW     1096.500000\n",
      "PX_HIGH    1109.320000\n",
      "return        0.949364\n",
      "Name: 2016-09-09 00:00:00, dtype: float64\n"
     ]
    }
   ],
   "source": [
    "retrieveNuclearDays()"
   ]
  },
  {
   "cell_type": "code",
   "execution_count": null,
   "metadata": {
    "collapsed": true
   },
   "outputs": [],
   "source": []
  }
 ],
 "metadata": {
  "kernelspec": {
   "display_name": "Python 3",
   "language": "python",
   "name": "python3"
  },
  "language_info": {
   "codemirror_mode": {
    "name": "ipython",
    "version": 3
   },
   "file_extension": ".py",
   "mimetype": "text/x-python",
   "name": "python",
   "nbconvert_exporter": "python",
   "pygments_lexer": "ipython3",
   "version": "3.5.1"
  }
 },
 "nbformat": 4,
 "nbformat_minor": 0
}
